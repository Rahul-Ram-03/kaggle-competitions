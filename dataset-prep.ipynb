{
 "cells": [
  {
   "cell_type": "markdown",
   "id": "9b678f58",
   "metadata": {},
   "source": [
    "### fake-or-real-the-impostor-hunt"
   ]
  },
  {
   "cell_type": "markdown",
   "id": "6f1381b2",
   "metadata": {},
   "source": [
    "#### Method 1"
   ]
  },
  {
   "cell_type": "code",
   "execution_count": null,
   "id": "44abf1c8",
   "metadata": {},
   "outputs": [],
   "source": [
    "import pandas as pd\n",
    "import os\n",
    "import csv\n",
    "\n",
    "gtFile = \"./kaggle/input/fake-or-real-the-impostor-hunt/data/train.csv\"\n",
    "trainSubDir = \"./kaggle/input/fake-or-real-the-impostor-hunt/data/train/\"\n",
    "outFile = \"./kaggle/input/fake-or-real-the-impostor-hunt/data/train_files_and_ground_truth-m1.csv\"\n",
    "\n",
    "label_df = pd.read_csv(gtFile)\n",
    "filesAndGrndTrth: list[dict] = []\n",
    "\n",
    "articles = os.listdir(trainSubDir)\n",
    "for article in articles:\n",
    "\tfiles = os.listdir(trainSubDir + article)\n",
    "\tfor file in files:\n",
    "\t\tid = int(article.split('_')[-1])\n",
    "\t\tfileId = int(file.removesuffix('.txt').split('_')[-1])\n",
    "\t\tfileForArticle = int((label_df[label_df['id'] == id]['real_text_id']) \\\n",
    "\t\t\t\t\t\t .values[0])\n",
    "\t\t\n",
    "\t\tfilesAndGrndTrth.append({\n",
    "\t\t\t'file': trainSubDir + article + \"/\" + file,\n",
    "\t\t\t'label': fileId == fileForArticle\n",
    "\t\t})\n",
    "\n",
    "with open(outFile, 'w') as f:\n",
    "\twriter = csv.DictWriter(f, filesAndGrndTrth[0].keys())\n",
    "\twriter.writeheader()\n",
    "\twriter.writerows(filesAndGrndTrth)\n",
    "\n",
    "\tf.close()"
   ]
  },
  {
   "cell_type": "markdown",
   "id": "250be68e",
   "metadata": {},
   "source": [
    "#### Test files (method 1)"
   ]
  },
  {
   "cell_type": "code",
   "execution_count": null,
   "id": "81ff819b",
   "metadata": {},
   "outputs": [],
   "source": [
    "import os\n",
    "import csv\n",
    "\n",
    "outFile = \"./kaggle/input/fake-or-real-the-impostor-hunt/data/test_files_m1.csv\"\n",
    "testSubDir = \"./kaggle/input/fake-or-real-the-impostor-hunt/data/test/\"\n",
    "testFiles: list[dict] = []\n",
    "\n",
    "articles = os.listdir(testSubDir)\n",
    "for article in articles:\n",
    "\tfiles = os.listdir(testSubDir + article)\n",
    "\tfor file in files:\n",
    "\t\ttestFiles.append({\n",
    "\t\t\t'articleId': int(article.split('_')[1]),\n",
    "\t\t\t'fileId': int(file.removesuffix('.txt').split('_')[1]),\n",
    "\t\t\t'filePath': testSubDir + article + \"/\" + file\n",
    "\t\t})\n",
    "\n",
    "with open(outFile, 'w') as f:\n",
    "\twriter = csv.DictWriter(f, testFiles[0].keys())\n",
    "\twriter.writeheader()\n",
    "\twriter.writerows(testFiles)\n",
    "\n",
    "\tf.close()"
   ]
  },
  {
   "cell_type": "markdown",
   "id": "bb2b1401",
   "metadata": {},
   "source": [
    "#### Method 2"
   ]
  },
  {
   "cell_type": "code",
   "execution_count": null,
   "id": "0bf7ab1c",
   "metadata": {},
   "outputs": [],
   "source": [
    "import pandas as pd\n",
    "import os\n",
    "import json\n",
    "\n",
    "gtFile = \"./kaggle/input/fake-or-real-the-impostor-hunt/data/train.csv\"\n",
    "trainSubDir = \"./kaggle/input/fake-or-real-the-impostor-hunt/data/train/\"\n",
    "outFile = \"./kaggle/input/fake-or-real-the-impostor-hunt/data/train_files_and_ground_truth-m2.json\"\n",
    "\n",
    "label_df = pd.read_csv(gtFile)\n",
    "filesAndGrndTrth: list[dict] = []\n",
    "\n",
    "articles = os.listdir(trainSubDir)\n",
    "\n",
    "for article in articles:\n",
    "\n",
    "\tfiles = os.listdir(trainSubDir + article)\n",
    "\tfilesForArticle: list[dict] = []\n",
    "\n",
    "\tfor file in files:\n",
    "\n",
    "\t\tid = int(article.split('_')[-1])\n",
    "\t\tfileId = int(file.removesuffix('.txt').split('_')[-1])\n",
    "\t\tfileForArticle = int((label_df[label_df['id'] == id]['real_text_id']) \\\n",
    "\t\t\t\t\t\t .values[0])\n",
    "\t\t\n",
    "\t\tfilesForArticle.append({\n",
    "\t\t\t'fileId': fileId,\n",
    "\t\t\t'filePath': trainSubDir + article + \"/\" + file,\n",
    "\t\t\t'label': fileId == fileForArticle\n",
    "\t\t})\n",
    "\t\t\n",
    "\tfilesAndGrndTrth.append({\n",
    "\t\t'articleId': id,\n",
    "\t\t'files': filesForArticle\n",
    "\t})\n",
    "\n",
    "with open(outFile, 'w') as f:\n",
    "\tjson.dump(filesAndGrndTrth, f, indent= 2)\n",
    "\tf.close()"
   ]
  },
  {
   "cell_type": "markdown",
   "id": "a553823e",
   "metadata": {},
   "source": [
    "#### Test files (method 2)"
   ]
  },
  {
   "cell_type": "code",
   "execution_count": 2,
   "id": "73457694",
   "metadata": {},
   "outputs": [],
   "source": [
    "import os\n",
    "import json\n",
    "\n",
    "outFile = \"./kaggle/input/fake-or-real-the-impostor-hunt/data/test_files_m2.json\"\n",
    "testSubDir = \"./kaggle/input/fake-or-real-the-impostor-hunt/data/test/\"\n",
    "testFiles: list[dict] = []\n",
    "\n",
    "articles = os.listdir(testSubDir)\n",
    "\n",
    "for article in articles:\n",
    "\tfiles = os.listdir(testSubDir + article)\n",
    "\tfilesForArticles: list[dict] = []\n",
    "\n",
    "\tfor file in files:\n",
    "\t\tfilesForArticles.append({\n",
    "\t\t\t'fileId': int(file.removesuffix('.txt').split('_')[1]),\n",
    "\t\t\t'filePath': testSubDir + article + \"/\" + file\n",
    "\t\t})\n",
    "\t\n",
    "\ttestFiles.append({\n",
    "\t\t'articleId': int(article.split('_')[1]),\n",
    "\t\t'files': filesForArticles\n",
    "\t})\n",
    "\n",
    "with open(outFile, 'w') as f:\n",
    "\tjson.dump(testFiles, f, indent= 2)\n",
    "\tf.close()"
   ]
  },
  {
   "cell_type": "code",
   "execution_count": null,
   "id": "1b72b3d5",
   "metadata": {},
   "outputs": [],
   "source": []
  }
 ],
 "metadata": {
  "kernelspec": {
   "display_name": "pytorch-basics",
   "language": "python",
   "name": "python3"
  },
  "language_info": {
   "codemirror_mode": {
    "name": "ipython",
    "version": 3
   },
   "file_extension": ".py",
   "mimetype": "text/x-python",
   "name": "python",
   "nbconvert_exporter": "python",
   "pygments_lexer": "ipython3",
   "version": "3.12.5"
  }
 },
 "nbformat": 4,
 "nbformat_minor": 5
}
