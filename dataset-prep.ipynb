{
 "cells": [
  {
   "cell_type": "markdown",
   "id": "9b678f58",
   "metadata": {},
   "source": [
    "### fake-or-real-the-impostor-hunt"
   ]
  },
  {
   "cell_type": "code",
   "execution_count": null,
   "id": "44abf1c8",
   "metadata": {},
   "outputs": [],
   "source": [
    "import pandas as pd\n",
    "import os\n",
    "import csv\n",
    "\n",
    "gtFile = \"./kaggle/input/fake-or-real-the-impostor-hunt/data/train.csv\"\n",
    "trainSubDir = \"./kaggle/input/fake-or-real-the-impostor-hunt/data/train/\"\n",
    "outFile = \"./kaggle/input/fake-or-real-the-impostor-hunt/data/ground_truth.csv\"\n",
    "\n",
    "label_df = pd.read_csv(gtFile)\n",
    "filesAndGrndTrth: list[dict] = []\n",
    "\n",
    "articles = os.listdir(trainSubDir)\n",
    "for article in articles:\n",
    "\tfiles = os.listdir(trainSubDir + article)\n",
    "\tfor file in files:\n",
    "\t\tid = int(article.split('_')[-1])\n",
    "\t\tfileId = int(file.removesuffix('.txt').split('_')[-1])\n",
    "\t\tfileForArticle = int((label_df[label_df['id'] == id]['real_text_id']) \\\n",
    "\t\t\t\t\t\t .values[0])\n",
    "\t\t\n",
    "\t\tfilesAndGrndTrth.append({\n",
    "\t\t\t'file': trainSubDir + article + \"/\" + file,\n",
    "\t\t\t'label': fileId == fileForArticle\n",
    "\t\t})\n",
    "\n",
    "with open(outFile, 'w') as f:\n",
    "\twriter = csv.DictWriter(f, filesAndGrndTrth[0].keys())\n",
    "\twriter.writeheader()\n",
    "\twriter.writerows(filesAndGrndTrth)\n",
    "\n",
    "\tf.close()"
   ]
  },
  {
   "cell_type": "code",
   "execution_count": 4,
   "id": "1e71fcd8",
   "metadata": {},
   "outputs": [],
   "source": [
    "import os\n",
    "import csv\n",
    "\n",
    "outFile = \"./kaggle/input/fake-or-real-the-impostor-hunt/data/test_files.csv\"\n",
    "testSubDir = \"./kaggle/input/fake-or-real-the-impostor-hunt/data/test/\"\n",
    "testFiles: list[dict] = []\n",
    "\n",
    "articles = os.listdir(testSubDir)\n",
    "for article in articles:\n",
    "\tfiles = os.listdir(testSubDir + article)\n",
    "\tfor file in files:\n",
    "\t\ttestFiles.append({\n",
    "\t\t\t'articleId': int(article.split('_')[1]),\n",
    "\t\t\t'fileId': int(file.removesuffix('.txt').split('_')[1]),\n",
    "\t\t\t'filePath': testSubDir + article + \"/\" + file\n",
    "\t\t})\n",
    "\n",
    "with open(outFile, 'w') as f:\n",
    "\twriter = csv.DictWriter(f, testFiles[0].keys())\n",
    "\twriter.writeheader()\n",
    "\twriter.writerows(testFiles)\n",
    "\n",
    "\tf.close()"
   ]
  },
  {
   "cell_type": "code",
   "execution_count": null,
   "id": "72a24fe2",
   "metadata": {},
   "outputs": [],
   "source": []
  }
 ],
 "metadata": {
  "kernelspec": {
   "display_name": "pytorch-basics",
   "language": "python",
   "name": "python3"
  },
  "language_info": {
   "codemirror_mode": {
    "name": "ipython",
    "version": 3
   },
   "file_extension": ".py",
   "mimetype": "text/x-python",
   "name": "python",
   "nbconvert_exporter": "python",
   "pygments_lexer": "ipython3",
   "version": "3.12.5"
  }
 },
 "nbformat": 4,
 "nbformat_minor": 5
}
