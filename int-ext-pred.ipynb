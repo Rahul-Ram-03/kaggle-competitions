{
 "cells": [
  {
   "cell_type": "code",
   "execution_count": 1,
   "metadata": {
    "execution": {
     "iopub.execute_input": "2025-07-10T16:55:26.213063Z",
     "iopub.status.busy": "2025-07-10T16:55:26.212760Z",
     "iopub.status.idle": "2025-07-10T16:55:27.304440Z",
     "shell.execute_reply": "2025-07-10T16:55:27.303640Z",
     "shell.execute_reply.started": "2025-07-10T16:55:26.213042Z"
    },
    "trusted": true
   },
   "outputs": [],
   "source": [
    "import pandas as pd\n",
    "import numpy as np\n",
    "import matplotlib.pyplot as plt\n",
    "import os\n",
    "from xgboost import XGBClassifier\n",
    "from sklearn.preprocessing import OneHotEncoder\n",
    "from sklearn.model_selection import train_test_split\n",
    "from sklearn.metrics import accuracy_score, classification_report\n",
    "import datetime\n",
    "import csv"
   ]
  },
  {
   "cell_type": "code",
   "execution_count": 2,
   "metadata": {
    "execution": {
     "iopub.execute_input": "2025-07-10T16:55:27.306493Z",
     "iopub.status.busy": "2025-07-10T16:55:27.305842Z",
     "iopub.status.idle": "2025-07-10T16:55:27.351037Z",
     "shell.execute_reply": "2025-07-10T16:55:27.350061Z",
     "shell.execute_reply.started": "2025-07-10T16:55:27.306471Z"
    },
    "trusted": true
   },
   "outputs": [
    {
     "name": "stdout",
     "output_type": "stream",
     "text": [
      "Train df shape: (18524, 8)\n",
      "Train df columns: Index(['Time_spent_Alone', 'Stage_fear', 'Social_event_attendance',\n",
      "       'Going_outside', 'Drained_after_socializing', 'Friends_circle_size',\n",
      "       'Post_frequency', 'Personality'],\n",
      "      dtype='object')\n",
      "Test df shape: (6175, 7)\n",
      "Test df columns: Index(['Time_spent_Alone', 'Stage_fear', 'Social_event_attendance',\n",
      "       'Going_outside', 'Drained_after_socializing', 'Friends_circle_size',\n",
      "       'Post_frequency'],\n",
      "      dtype='object')\n"
     ]
    }
   ],
   "source": [
    "train_df = pd.read_csv('/kaggle/input/playground-series-s5e7/train.csv')\n",
    "train_ids = train_df['id']\n",
    "train_df = train_df.loc[:, train_df.columns != 'id']\n",
    "print(f\"Train df shape: {train_df.shape}\")\n",
    "print(f\"Train df columns: {train_df.columns}\")\n",
    "\n",
    "test_df = pd.read_csv('/kaggle/input/playground-series-s5e7/test.csv')\n",
    "test_ids = test_df['id']\n",
    "test_df = test_df.loc[:, test_df.columns != 'id']\n",
    "print(f\"Test df shape: {test_df.shape}\")\n",
    "print(f\"Test df columns: {test_df.columns}\")"
   ]
  },
  {
   "cell_type": "code",
   "execution_count": 3,
   "metadata": {
    "execution": {
     "iopub.execute_input": "2025-07-10T16:55:27.352381Z",
     "iopub.status.busy": "2025-07-10T16:55:27.352053Z",
     "iopub.status.idle": "2025-07-10T16:55:27.359481Z",
     "shell.execute_reply": "2025-07-10T16:55:27.358793Z",
     "shell.execute_reply.started": "2025-07-10T16:55:27.352353Z"
    },
    "trusted": true
   },
   "outputs": [],
   "source": [
    "column_name_map = {\n",
    "    'Time_spent_Alone' : 'tsa',\n",
    "    'Stage_fear' : 'sf',\n",
    "    'Social_event_attendance': 'sea',\n",
    "    'Going_outside' : 'go',\n",
    "    'Drained_after_socializing' : 'das',\n",
    "    'Friends_circle_size' : 'fcs',\n",
    "    'Post_frequency' : 'pf',\n",
    "    'Personality' : 'label'\n",
    "}\n",
    "\n",
    "train_df = train_df.rename(columns= column_name_map)\n",
    "test_df = test_df.rename(columns= column_name_map)"
   ]
  },
  {
   "cell_type": "code",
   "execution_count": 4,
   "metadata": {
    "execution": {
     "iopub.execute_input": "2025-07-10T16:55:27.594938Z",
     "iopub.status.busy": "2025-07-10T16:55:27.594608Z",
     "iopub.status.idle": "2025-07-10T16:55:27.613358Z",
     "shell.execute_reply": "2025-07-10T16:55:27.612414Z",
     "shell.execute_reply.started": "2025-07-10T16:55:27.594914Z"
    },
    "trusted": true
   },
   "outputs": [
    {
     "name": "stderr",
     "output_type": "stream",
     "text": [
      "/usr/local/lib/python3.11/dist-packages/pandas/io/formats/format.py:1458: RuntimeWarning: invalid value encountered in greater\n",
      "  has_large_values = (abs_vals > 1e6).any()\n",
      "/usr/local/lib/python3.11/dist-packages/pandas/io/formats/format.py:1459: RuntimeWarning: invalid value encountered in less\n",
      "  has_small_values = ((abs_vals < 10 ** (-self.digits)) & (abs_vals > 0)).any()\n",
      "/usr/local/lib/python3.11/dist-packages/pandas/io/formats/format.py:1459: RuntimeWarning: invalid value encountered in greater\n",
      "  has_small_values = ((abs_vals < 10 ** (-self.digits)) & (abs_vals > 0)).any()\n"
     ]
    },
    {
     "data": {
      "text/html": [
       "<div>\n",
       "<style scoped>\n",
       "    .dataframe tbody tr th:only-of-type {\n",
       "        vertical-align: middle;\n",
       "    }\n",
       "\n",
       "    .dataframe tbody tr th {\n",
       "        vertical-align: top;\n",
       "    }\n",
       "\n",
       "    .dataframe thead th {\n",
       "        text-align: right;\n",
       "    }\n",
       "</style>\n",
       "<table border=\"1\" class=\"dataframe\">\n",
       "  <thead>\n",
       "    <tr style=\"text-align: right;\">\n",
       "      <th></th>\n",
       "      <th>tsa</th>\n",
       "      <th>sf</th>\n",
       "      <th>sea</th>\n",
       "      <th>go</th>\n",
       "      <th>das</th>\n",
       "      <th>fcs</th>\n",
       "      <th>pf</th>\n",
       "      <th>label</th>\n",
       "    </tr>\n",
       "  </thead>\n",
       "  <tbody>\n",
       "    <tr>\n",
       "      <th>0</th>\n",
       "      <td>0.0</td>\n",
       "      <td>No</td>\n",
       "      <td>6.0</td>\n",
       "      <td>4.0</td>\n",
       "      <td>No</td>\n",
       "      <td>15.0</td>\n",
       "      <td>5.0</td>\n",
       "      <td>Extrovert</td>\n",
       "    </tr>\n",
       "    <tr>\n",
       "      <th>1</th>\n",
       "      <td>1.0</td>\n",
       "      <td>No</td>\n",
       "      <td>7.0</td>\n",
       "      <td>3.0</td>\n",
       "      <td>No</td>\n",
       "      <td>10.0</td>\n",
       "      <td>8.0</td>\n",
       "      <td>Extrovert</td>\n",
       "    </tr>\n",
       "    <tr>\n",
       "      <th>2</th>\n",
       "      <td>6.0</td>\n",
       "      <td>Yes</td>\n",
       "      <td>1.0</td>\n",
       "      <td>0.0</td>\n",
       "      <td>NaN</td>\n",
       "      <td>3.0</td>\n",
       "      <td>0.0</td>\n",
       "      <td>Introvert</td>\n",
       "    </tr>\n",
       "    <tr>\n",
       "      <th>3</th>\n",
       "      <td>3.0</td>\n",
       "      <td>No</td>\n",
       "      <td>7.0</td>\n",
       "      <td>3.0</td>\n",
       "      <td>No</td>\n",
       "      <td>11.0</td>\n",
       "      <td>5.0</td>\n",
       "      <td>Extrovert</td>\n",
       "    </tr>\n",
       "    <tr>\n",
       "      <th>4</th>\n",
       "      <td>1.0</td>\n",
       "      <td>No</td>\n",
       "      <td>4.0</td>\n",
       "      <td>4.0</td>\n",
       "      <td>No</td>\n",
       "      <td>13.0</td>\n",
       "      <td>NaN</td>\n",
       "      <td>Extrovert</td>\n",
       "    </tr>\n",
       "  </tbody>\n",
       "</table>\n",
       "</div>"
      ],
      "text/plain": [
       "   tsa   sf  sea   go  das   fcs   pf      label\n",
       "0  0.0   No  6.0  4.0   No  15.0  5.0  Extrovert\n",
       "1  1.0   No  7.0  3.0   No  10.0  8.0  Extrovert\n",
       "2  6.0  Yes  1.0  0.0  NaN   3.0  0.0  Introvert\n",
       "3  3.0   No  7.0  3.0   No  11.0  5.0  Extrovert\n",
       "4  1.0   No  4.0  4.0   No  13.0  NaN  Extrovert"
      ]
     },
     "execution_count": 4,
     "metadata": {},
     "output_type": "execute_result"
    }
   ],
   "source": [
    "train_df.head(5)"
   ]
  },
  {
   "cell_type": "code",
   "execution_count": 5,
   "metadata": {
    "execution": {
     "iopub.execute_input": "2025-07-10T16:55:27.980454Z",
     "iopub.status.busy": "2025-07-10T16:55:27.980125Z",
     "iopub.status.idle": "2025-07-10T16:55:27.989912Z",
     "shell.execute_reply": "2025-07-10T16:55:27.988870Z",
     "shell.execute_reply.started": "2025-07-10T16:55:27.980429Z"
    },
    "trusted": true
   },
   "outputs": [
    {
     "name": "stdout",
     "output_type": "stream",
     "text": [
      "Train df rows w/ atleast one null val.: 8335(45.00%)\n"
     ]
    }
   ],
   "source": [
    "trainset_rows_with_null = train_df.isnull().any(axis= 1).sum()\n",
    "print(f\"Train df rows w/ atleast one null val.: {trainset_rows_with_null}({trainset_rows_with_null / train_df.shape[0] * 100:0.2f}%)\")\n",
    "\n",
    "# testset_rows_with_null = test_df.isnull().any(axis= 1).sum()\n",
    "# print(f\"Test df rows w/ atleast one null val.: {testset_rows_with_null}({testset_rows_with_null / test_df.shape[0] * 100:0.2f}%)\")"
   ]
  },
  {
   "cell_type": "code",
   "execution_count": 6,
   "metadata": {
    "execution": {
     "iopub.execute_input": "2025-07-10T16:55:30.771758Z",
     "iopub.status.busy": "2025-07-10T16:55:30.770925Z",
     "iopub.status.idle": "2025-07-10T16:55:30.782141Z",
     "shell.execute_reply": "2025-07-10T16:55:30.781260Z",
     "shell.execute_reply.started": "2025-07-10T16:55:30.771725Z"
    },
    "trusted": true
   },
   "outputs": [
    {
     "name": "stdout",
     "output_type": "stream",
     "text": [
      "tsa      float64\n",
      "sf        object\n",
      "sea      float64\n",
      "go       float64\n",
      "das       object\n",
      "fcs      float64\n",
      "pf       float64\n",
      "label     object\n",
      "dtype: object\n",
      "\n",
      "~~~~~~~~~~~~~~~~\n",
      "\n",
      "tsa      1190\n",
      "sf       1893\n",
      "sea      1180\n",
      "go       1466\n",
      "das      1149\n",
      "fcs      1054\n",
      "pf       1264\n",
      "label       0\n",
      "dtype: int64\n"
     ]
    }
   ],
   "source": [
    "print(train_df.dtypes)\n",
    "print(\"\\n~~~~~~~~~~~~~~~~\\n\")\n",
    "print(train_df.isna().sum())"
   ]
  },
  {
   "cell_type": "code",
   "execution_count": 7,
   "metadata": {
    "execution": {
     "iopub.execute_input": "2025-07-10T16:55:31.028762Z",
     "iopub.status.busy": "2025-07-10T16:55:31.028486Z",
     "iopub.status.idle": "2025-07-10T16:55:31.037970Z",
     "shell.execute_reply": "2025-07-10T16:55:31.037022Z",
     "shell.execute_reply.started": "2025-07-10T16:55:31.028742Z"
    },
    "trusted": true
   },
   "outputs": [
    {
     "data": {
      "text/plain": [
       "sf     [No, Yes, nan]\n",
       "das    [No, nan, Yes]\n",
       "dtype: object"
      ]
     },
     "execution_count": 7,
     "metadata": {},
     "output_type": "execute_result"
    }
   ],
   "source": [
    "categorical_cols = ['sf', 'das']\n",
    "pd.Series({col: train_df[col].unique() for col in categorical_cols})"
   ]
  },
  {
   "cell_type": "code",
   "execution_count": 8,
   "metadata": {
    "execution": {
     "iopub.execute_input": "2025-07-10T16:55:31.419129Z",
     "iopub.status.busy": "2025-07-10T16:55:31.418579Z",
     "iopub.status.idle": "2025-07-10T16:55:31.433819Z",
     "shell.execute_reply": "2025-07-10T16:55:31.432860Z",
     "shell.execute_reply.started": "2025-07-10T16:55:31.419090Z"
    },
    "trusted": true
   },
   "outputs": [],
   "source": [
    "for col in categorical_cols:\n",
    "    train_df[col] = train_df[col].fillna('unk')\n",
    "    test_df[col] = test_df[col].fillna('unk')"
   ]
  },
  {
   "cell_type": "code",
   "execution_count": 9,
   "metadata": {
    "execution": {
     "iopub.execute_input": "2025-07-10T16:55:34.246611Z",
     "iopub.status.busy": "2025-07-10T16:55:34.245668Z",
     "iopub.status.idle": "2025-07-10T16:55:34.256100Z",
     "shell.execute_reply": "2025-07-10T16:55:34.255197Z",
     "shell.execute_reply.started": "2025-07-10T16:55:34.246580Z"
    },
    "trusted": true
   },
   "outputs": [
    {
     "data": {
      "text/plain": [
       "sf     [No, Yes, unk]\n",
       "das    [No, unk, Yes]\n",
       "dtype: object"
      ]
     },
     "execution_count": 9,
     "metadata": {},
     "output_type": "execute_result"
    }
   ],
   "source": [
    "pd.Series({col: train_df[col].unique() for col in categorical_cols})"
   ]
  },
  {
   "cell_type": "code",
   "execution_count": 10,
   "metadata": {
    "execution": {
     "iopub.execute_input": "2025-07-10T16:55:34.658725Z",
     "iopub.status.busy": "2025-07-10T16:55:34.658428Z",
     "iopub.status.idle": "2025-07-10T16:55:34.684327Z",
     "shell.execute_reply": "2025-07-10T16:55:34.683365Z",
     "shell.execute_reply.started": "2025-07-10T16:55:34.658701Z"
    },
    "trusted": true
   },
   "outputs": [
    {
     "name": "stderr",
     "output_type": "stream",
     "text": [
      "/usr/local/lib/python3.11/dist-packages/sklearn/preprocessing/_encoders.py:868: FutureWarning: `sparse` was renamed to `sparse_output` in version 1.2 and will be removed in 1.4. `sparse_output` is ignored unless you leave `sparse` to its default value.\n",
      "  warnings.warn(\n"
     ]
    },
    {
     "data": {
      "text/plain": [
       "(18524, 12)"
      ]
     },
     "execution_count": 10,
     "metadata": {},
     "output_type": "execute_result"
    }
   ],
   "source": [
    "encoder = OneHotEncoder(handle_unknown= 'ignore', sparse= False)\n",
    "encoded_train_cols = encoder.fit_transform(train_df[categorical_cols])\n",
    "encoded_train_cols = pd.DataFrame(encoded_train_cols, index= train_df.index)\n",
    "train_df = train_df.drop(columns= categorical_cols)\n",
    "train_df = pd.concat([encoded_train_cols, train_df], axis= 1)\n",
    "\n",
    "train_df.shape"
   ]
  },
  {
   "cell_type": "code",
   "execution_count": 11,
   "metadata": {
    "execution": {
     "iopub.execute_input": "2025-07-10T16:55:34.963266Z",
     "iopub.status.busy": "2025-07-10T16:55:34.962911Z",
     "iopub.status.idle": "2025-07-10T16:55:34.979036Z",
     "shell.execute_reply": "2025-07-10T16:55:34.978062Z",
     "shell.execute_reply.started": "2025-07-10T16:55:34.963240Z"
    },
    "trusted": true
   },
   "outputs": [
    {
     "name": "stderr",
     "output_type": "stream",
     "text": [
      "/usr/local/lib/python3.11/dist-packages/sklearn/preprocessing/_encoders.py:868: FutureWarning: `sparse` was renamed to `sparse_output` in version 1.2 and will be removed in 1.4. `sparse_output` is ignored unless you leave `sparse` to its default value.\n",
      "  warnings.warn(\n"
     ]
    },
    {
     "data": {
      "text/plain": [
       "(6175, 11)"
      ]
     },
     "execution_count": 11,
     "metadata": {},
     "output_type": "execute_result"
    }
   ],
   "source": [
    "encoded_test_cols = encoder.fit_transform(test_df[categorical_cols])\n",
    "encoded_test_cols = pd.DataFrame(encoded_test_cols, index= test_df.index)\n",
    "test_df = test_df.drop(columns= categorical_cols)\n",
    "test_df = pd.concat([encoded_test_cols, test_df], axis= 1)\n",
    "\n",
    "test_df.shape"
   ]
  },
  {
   "cell_type": "code",
   "execution_count": 12,
   "metadata": {
    "execution": {
     "iopub.execute_input": "2025-07-10T16:55:37.211864Z",
     "iopub.status.busy": "2025-07-10T16:55:37.211585Z",
     "iopub.status.idle": "2025-07-10T16:55:37.229371Z",
     "shell.execute_reply": "2025-07-10T16:55:37.228500Z",
     "shell.execute_reply.started": "2025-07-10T16:55:37.211835Z"
    },
    "trusted": true
   },
   "outputs": [
    {
     "name": "stderr",
     "output_type": "stream",
     "text": [
      "/tmp/ipykernel_144/1368517253.py:6: FutureWarning: Downcasting behavior in `replace` is deprecated and will be removed in a future version. To retain the old behavior, explicitly call `result.infer_objects(copy=False)`. To opt-in to the future behavior, set `pd.set_option('future.no_silent_downcasting', True)`\n",
      "  train_df['label'] = train_df['label'].replace(mapping)\n"
     ]
    },
    {
     "data": {
      "text/plain": [
       "0    1\n",
       "1    1\n",
       "2    0\n",
       "3    1\n",
       "4    1\n",
       "Name: label, dtype: int64"
      ]
     },
     "execution_count": 12,
     "metadata": {},
     "output_type": "execute_result"
    }
   ],
   "source": [
    "mapping = {\n",
    "    'Introvert': 0,\n",
    "    'Extrovert': 1\n",
    "}\n",
    "\n",
    "train_df['label'] = train_df['label'].replace(mapping)\n",
    "train_df['label'].head(5)"
   ]
  },
  {
   "cell_type": "code",
   "execution_count": 13,
   "metadata": {
    "execution": {
     "iopub.execute_input": "2025-07-10T16:55:37.468711Z",
     "iopub.status.busy": "2025-07-10T16:55:37.468432Z",
     "iopub.status.idle": "2025-07-10T16:55:37.474684Z",
     "shell.execute_reply": "2025-07-10T16:55:37.473796Z",
     "shell.execute_reply.started": "2025-07-10T16:55:37.468692Z"
    },
    "trusted": true
   },
   "outputs": [],
   "source": [
    "y = train_df['label']\n",
    "x = train_df.drop('label', axis= 1)"
   ]
  },
  {
   "cell_type": "code",
   "execution_count": 14,
   "metadata": {
    "execution": {
     "iopub.execute_input": "2025-07-10T16:55:40.484767Z",
     "iopub.status.busy": "2025-07-10T16:55:40.484496Z",
     "iopub.status.idle": "2025-07-10T16:55:40.495211Z",
     "shell.execute_reply": "2025-07-10T16:55:40.494330Z",
     "shell.execute_reply.started": "2025-07-10T16:55:40.484748Z"
    },
    "trusted": true
   },
   "outputs": [
    {
     "name": "stdout",
     "output_type": "stream",
     "text": [
      "x_train size: (12040, 11); x_test.shape: (6484, 11)\n",
      "y_train size: (12040,); y_test.shape: (6484,)\n"
     ]
    }
   ],
   "source": [
    "x_train, x_test, y_train, y_test = train_test_split(x, y, test_size= 0.35)\n",
    "\n",
    "print(f\"x_train size: {x_train.shape}; x_test.shape: {x_test.shape}\")\n",
    "print(f\"y_train size: {y_train.shape}; y_test.shape: {y_test.shape}\")"
   ]
  },
  {
   "cell_type": "markdown",
   "metadata": {},
   "source": [
    "### Method 1: Do nothing and use XGBoost"
   ]
  },
  {
   "cell_type": "code",
   "execution_count": 15,
   "metadata": {
    "execution": {
     "iopub.execute_input": "2025-07-10T16:55:41.786534Z",
     "iopub.status.busy": "2025-07-10T16:55:41.786225Z",
     "iopub.status.idle": "2025-07-10T16:55:41.791331Z",
     "shell.execute_reply": "2025-07-10T16:55:41.790353Z",
     "shell.execute_reply.started": "2025-07-10T16:55:41.786510Z"
    },
    "trusted": true
   },
   "outputs": [],
   "source": [
    "params = {\n",
    "    'nEstimators' : 1000,\n",
    "    'maxDepth' : 7,\n",
    "    'lr': 1e-3,\n",
    "}\n",
    "\n",
    "xgbc = XGBClassifier(n_estimators= params['nEstimators'],\n",
    "                     max_depth= params['maxDepth'],\n",
    "                     learning_rate= params['lr'])"
   ]
  },
  {
   "cell_type": "code",
   "execution_count": 16,
   "metadata": {
    "execution": {
     "iopub.execute_input": "2025-07-10T16:55:43.755037Z",
     "iopub.status.busy": "2025-07-10T16:55:43.754665Z",
     "iopub.status.idle": "2025-07-10T16:55:45.039520Z",
     "shell.execute_reply": "2025-07-10T16:55:45.038882Z",
     "shell.execute_reply.started": "2025-07-10T16:55:43.755011Z"
    },
    "trusted": true
   },
   "outputs": [],
   "source": [
    "xgbc.fit(x_train, y_train)\n",
    "preds = xgbc.predict(x_test)\n",
    "\n",
    "acc = accuracy_score(y_test, preds)"
   ]
  },
  {
   "cell_type": "code",
   "execution_count": 17,
   "metadata": {
    "execution": {
     "iopub.execute_input": "2025-07-10T16:55:45.040586Z",
     "iopub.status.busy": "2025-07-10T16:55:45.040354Z",
     "iopub.status.idle": "2025-07-10T16:55:45.062123Z",
     "shell.execute_reply": "2025-07-10T16:55:45.060845Z",
     "shell.execute_reply.started": "2025-07-10T16:55:45.040567Z"
    },
    "trusted": true
   },
   "outputs": [
    {
     "name": "stdout",
     "output_type": "stream",
     "text": [
      "Accuracy: 96.823%\n",
      "Accuracy report\n",
      "~~~~~~~~~~~~~~~~~~~~~~~\n",
      "\n",
      "              precision    recall  f1-score   support\n",
      "\n",
      "           0       0.95      0.93      0.94      1714\n",
      "           1       0.98      0.98      0.98      4770\n",
      "\n",
      "    accuracy                           0.97      6484\n",
      "   macro avg       0.96      0.96      0.96      6484\n",
      "weighted avg       0.97      0.97      0.97      6484\n",
      "\n"
     ]
    }
   ],
   "source": [
    "print(f\"Accuracy: {acc * 100:0.3f}%\")\n",
    "print(f\"Accuracy report\\n~~~~~~~~~~~~~~~~~~~~~~~\\n\")\n",
    "print(classification_report(y_test, preds))"
   ]
  },
  {
   "cell_type": "code",
   "execution_count": 18,
   "metadata": {
    "execution": {
     "iopub.execute_input": "2025-07-10T16:56:09.806280Z",
     "iopub.status.busy": "2025-07-10T16:56:09.805958Z",
     "iopub.status.idle": "2025-07-10T16:56:09.899158Z",
     "shell.execute_reply": "2025-07-10T16:56:09.898235Z",
     "shell.execute_reply.started": "2025-07-10T16:56:09.806252Z"
    },
    "trusted": true
   },
   "outputs": [],
   "source": [
    "now = datetime.datetime.now()\n",
    "out_file = \"/kaggle/working/submission-method-1-\" + str(now).split(' ')[0] + \".csv\"\n",
    "\n",
    "submission_preds = xgbc.predict(test_df)\n",
    "preds_with_ids = []\n",
    "\n",
    "for i in range(test_df.shape[0]):\n",
    "    label = 'Introvert' if submission_preds[i] == 0 else 'Extrovert'\n",
    "    pred = {\n",
    "        'id': test_ids[i],\n",
    "        'Personality': label\n",
    "    }\n",
    "    preds_with_ids.append(pred)"
   ]
  },
  {
   "cell_type": "code",
   "execution_count": 19,
   "metadata": {
    "execution": {
     "iopub.execute_input": "2025-07-10T16:56:32.204289Z",
     "iopub.status.busy": "2025-07-10T16:56:32.203912Z",
     "iopub.status.idle": "2025-07-10T16:56:32.223064Z",
     "shell.execute_reply": "2025-07-10T16:56:32.222289Z",
     "shell.execute_reply.started": "2025-07-10T16:56:32.204263Z"
    },
    "trusted": true
   },
   "outputs": [],
   "source": [
    "with open(out_file, 'w') as f:\n",
    "    writer = csv.DictWriter(f, fieldnames= preds_with_ids[0].keys())\n",
    "    writer.writeheader()\n",
    "    writer.writerows(preds_with_ids)"
   ]
  },
  {
   "cell_type": "markdown",
   "metadata": {},
   "source": [
    "### Method 2: Impute missing numeric values"
   ]
  },
  {
   "cell_type": "code",
   "execution_count": null,
   "metadata": {
    "trusted": true
   },
   "outputs": [],
   "source": []
  }
 ],
 "metadata": {
  "kaggle": {
   "accelerator": "none",
   "dataSources": [
    {
     "databundleVersionId": 12738969,
     "sourceId": 91718,
     "sourceType": "competition"
    }
   ],
   "dockerImageVersionId": 31040,
   "isGpuEnabled": false,
   "isInternetEnabled": true,
   "language": "python",
   "sourceType": "notebook"
  },
  "kernelspec": {
   "display_name": "pytorch-basics",
   "language": "python",
   "name": "python3"
  },
  "language_info": {
   "codemirror_mode": {
    "name": "ipython",
    "version": 3
   },
   "file_extension": ".py",
   "mimetype": "text/x-python",
   "name": "python",
   "nbconvert_exporter": "python",
   "pygments_lexer": "ipython3",
   "version": "3.12.5"
  }
 },
 "nbformat": 4,
 "nbformat_minor": 4
}
